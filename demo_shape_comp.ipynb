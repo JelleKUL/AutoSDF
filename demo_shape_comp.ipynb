{
 "cells": [
  {
   "cell_type": "code",
   "execution_count": null,
   "metadata": {},
   "outputs": [],
   "source": [
    "import os\n",
    "import imageio\n",
    "import numpy as np\n",
    "%matplotlib inline\n",
    "import matplotlib\n",
    "import matplotlib.pyplot as plt\n",
    "from PIL import Image\n",
    "\n",
    "import torch\n",
    "import torch.backends.cudnn as cudnn\n",
    "import torchvision.utils as vutils\n",
    "cudnn.benchmark = True\n",
    "\n",
    "import pytorch3d\n",
    "import pytorch3d.io\n",
    "\n",
    "\n",
    "# some utility function for visualization\n",
    "import utils\n",
    "from utils.util_3d import init_mesh_renderer, sdf_to_mesh, add_mesh_textures\n",
    "\n",
    "# some utility function\n",
    "from utils.qual_util import save_mesh_as_gif\n",
    "from IPython.display import Image as ipy_image\n",
    "from IPython.display import display\n",
    "\n",
    "%reload_ext autoreload\n",
    "%autoreload 2"
   ]
  },
  {
   "cell_type": "code",
   "execution_count": null,
   "metadata": {},
   "outputs": [],
   "source": [
    "from utils.demo_util import get_shape_comp_opt\n",
    "from utils.demo_util import get_shape_comp_model\n",
    "\n",
    "\"\"\" setup dir \"\"\"\n",
    "res_dir = 'results'\n",
    "if not os.path.exists(res_dir): os.mkdir(res_dir)\n",
    "\n",
    "\"\"\" setup opt\"\"\"\n",
    "gpu_id = 0\n",
    "\n",
    "opt = get_shape_comp_opt(gpu_id=gpu_id)\n",
    "\n",
    "\"\"\" setup different model \"\"\"\n",
    "model = get_shape_comp_model(opt)    \n",
    "model.eval()\n",
    "\n",
    "\"\"\" setup renderer \"\"\"\n",
    "dist, elev, azim = 1.7, 20, 110\n",
    "mesh_renderer = init_mesh_renderer(image_size=256, dist=dist, elev=elev, azim=azim, device=opt.device)"
   ]
  },
  {
   "attachments": {},
   "cell_type": "markdown",
   "metadata": {},
   "source": [
    "# Shape Completion\n",
    "1. Unconditional generation\n",
    "2. Structured input (e.g., given a leg of a chair)"
   ]
  },
  {
   "cell_type": "code",
   "execution_count": null,
   "metadata": {},
   "outputs": [],
   "source": [
    "\"\"\" Shape completion 1 - unconditional generation \"\"\"\n",
    "gen_sdf = model.uncond_gen(bs=9, topk=31)\n",
    "gen_sdf_as_mesh = sdf_to_mesh(gen_sdf)\n",
    "\n",
    "# save as gif\n",
    "gif_name = f'{res_dir}/shape-comp-uncond.gif'\n",
    "save_mesh_as_gif(mesh_renderer, gen_sdf_as_mesh, nrow=3, out_name=gif_name)\n",
    "\n",
    "ipy_image(gif_name)"
   ]
  },
  {
   "cell_type": "code",
   "execution_count": null,
   "metadata": {},
   "outputs": [],
   "source": [
    "\"\"\"\n",
    "    Shape completion 2 - structured input\n",
    "     - given a mesh, we first extract SDF from that mesh.\n",
    "     - then user can specify the partial input by setting the min & max values of x, y, z.\n",
    "\"\"\"\n",
    "import utils\n",
    "from utils.qual_util import get_partial_shape_by_range\n",
    "from preprocess.process_one_mesh import process_obj\n",
    "\n",
    "# input: complete chair\n",
    "# first extract sdf from mesh\n",
    "obj_file = 'demo_data/chair_model.obj'\n",
    "sdf_file = process_obj(obj_file)\n",
    "\n",
    "sdf = utils.util_3d.read_sdf(sdf_file).to(opt.device)\n"
   ]
  },
  {
   "cell_type": "code",
   "execution_count": null,
   "metadata": {},
   "outputs": [],
   "source": [
    "from utils.qual_util import get_partial_shape_by_range\n",
    "#sdf = model.uncond_gen(bs=1, topk=31)\n",
    "sdf = torch.load('./demo_data/voxelChair.pt',map_location=torch.device('cuda'))\n",
    "gen_sdf_as_mesh = sdf_to_mesh(sdf)\n",
    "print (sdf.shape)\n",
    "# save as gif\n",
    "gif_name = f'{res_dir}/shape-example.gif'\n",
    "save_mesh_as_gif(mesh_renderer, gen_sdf_as_mesh, nrow=1, out_name=gif_name)\n",
    "ipy_image(gif_name)\n"
   ]
  },
  {
   "cell_type": "code",
   "execution_count": null,
   "metadata": {},
   "outputs": [],
   "source": [
    "#print(sdf)\n",
    "torch.save(sdf, 'demo_data/tensor.txt')"
   ]
  },
  {
   "cell_type": "code",
   "execution_count": null,
   "metadata": {},
   "outputs": [],
   "source": [
    "\n",
    "# range: -1 ~ 1.\n",
    "# x: left-to-right; y: bottom-to-top; z: front-to-back\n",
    "# example: only conditioning on the bottom of the chair\n",
    "min_x, max_x = -1., 1.\n",
    "min_y, max_y = 0., 1.\n",
    "min_z, max_z = -1., 1.\n",
    "input_range = {'x1': min_x, 'x2': max_x, 'y1': min_y, 'y2': max_y, 'z1': min_z, 'z2': max_z}\n",
    "\n",
    "shape_comp_input = get_partial_shape_by_range(sdf, input_range)"
   ]
  },
  {
   "cell_type": "code",
   "execution_count": null,
   "metadata": {},
   "outputs": [],
   "source": [
    "\"\"\" perform shape completion \"\"\"\n",
    "input_mesh, comp_sdf = model.shape_comp(shape_comp_input, bs=9, topk=30)\n",
    "\n",
    "gen_mesh = sdf_to_mesh(comp_sdf)          # completed shape\n",
    "\n",
    "# save as gif\n",
    "gif_name = f'{res_dir}/shape-comp-struct-input-inp.gif'\n",
    "save_mesh_as_gif(mesh_renderer, input_mesh, nrow=1, out_name=gif_name)\n",
    "\n",
    "gen_gif_name = f'{res_dir}/shape-comp-struct-input-gen.gif'\n",
    "save_mesh_as_gif(mesh_renderer, gen_mesh, nrow=3, out_name=gen_gif_name)\n",
    "\n",
    "for name in [gif_name, gen_gif_name]:\n",
    "    display(ipy_image(name))"
   ]
  }
 ],
 "metadata": {
  "interpreter": {
   "hash": "1f1b280d0bad175b79e1457252213b00f343fb3cb82239855346bed4f09bff33"
  },
  "kernelspec": {
   "display_name": "Python 3 (ipykernel)",
   "language": "python",
   "name": "python3"
  },
  "language_info": {
   "codemirror_mode": {
    "name": "ipython",
    "version": 3
   },
   "file_extension": ".py",
   "mimetype": "text/x-python",
   "name": "python",
   "nbconvert_exporter": "python",
   "pygments_lexer": "ipython3",
   "version": "3.8.11"
  }
 },
 "nbformat": 4,
 "nbformat_minor": 4
}
