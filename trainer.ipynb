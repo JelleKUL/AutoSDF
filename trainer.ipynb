{
 "cells": [
  {
   "cell_type": "code",
   "execution_count": 2,
   "id": "e6a02013",
   "metadata": {},
   "outputs": [
    {
     "name": "stdout",
     "output_type": "stream",
     "text": [
      "1\n"
     ]
    }
   ],
   "source": [
    "import torch\n",
    "print(torch.cuda.device_count())\n",
    "device = torch.device('cuda:0')"
   ]
  },
  {
   "cell_type": "code",
   "execution_count": null,
   "id": "283e63ea",
   "metadata": {},
   "outputs": [],
   "source": [
    "torch.cuda.set_device(self.opt.gpu_ids[0])"
   ]
  },
  {
   "cell_type": "code",
   "execution_count": 4,
   "id": "2751abb5",
   "metadata": {},
   "outputs": [
    {
     "name": "stdout",
     "output_type": "stream",
     "text": [
      "tensor([[[[[1.1477, 1.1276, 1.1079,  ..., 1.0888, 1.1079, 1.1276],\n",
      "           [1.1286, 1.1081, 1.0881,  ..., 1.0686, 1.0881, 1.1081],\n",
      "           [1.1101, 1.0893, 1.0689,  ..., 1.0491, 1.0689, 1.0893],\n",
      "           ...,\n",
      "           [1.1603, 1.1400, 1.1203,  ..., 1.1011, 1.1203, 1.1400],\n",
      "           [1.1799, 1.1600, 1.1406,  ..., 1.1217, 1.1406, 1.1600],\n",
      "           [1.2000, 1.1804, 1.1614,  ..., 1.1428, 1.1614, 1.1804]],\n",
      "\n",
      "          [[1.1345, 1.1140, 1.0941,  ..., 1.0748, 1.0941, 1.1140],\n",
      "           [1.1152, 1.0944, 1.0741,  ..., 1.0544, 1.0741, 1.0944],\n",
      "           [1.0964, 1.0753, 1.0546,  ..., 1.0345, 1.0546, 1.0753],\n",
      "           ...,\n",
      "           [1.1472, 1.1267, 1.1067,  ..., 1.0872, 1.1067, 1.1267],\n",
      "           [1.1670, 1.1469, 1.1272,  ..., 1.1081, 1.1272, 1.1469],\n",
      "           [1.1873, 1.1675, 1.1483,  ..., 1.1295, 1.1483, 1.1675]],\n",
      "\n",
      "          [[1.1219, 1.1013, 1.0811,  ..., 1.0615, 1.0811, 1.1013],\n",
      "           [1.1024, 1.0814, 1.0609,  ..., 1.0409, 1.0609, 1.0814],\n",
      "           [1.0834, 1.0620, 1.0411,  ..., 1.0208, 1.0411, 1.0620],\n",
      "           ...,\n",
      "           [1.1348, 1.1140, 1.0938,  ..., 1.0741, 1.0938, 1.1140],\n",
      "           [1.1548, 1.1345, 1.1146,  ..., 1.0953, 1.1146, 1.1345],\n",
      "           [1.1754, 1.1554, 1.1359,  ..., 1.1169, 1.1359, 1.1554]],\n",
      "\n",
      "          ...,\n",
      "\n",
      "          [[1.1961, 1.1767, 1.1579,  ..., 1.1396, 1.1579, 1.1767],\n",
      "           [1.1744, 1.1547, 1.1355,  ..., 1.1168, 1.1355, 1.1547],\n",
      "           [1.1531, 1.1330, 1.1135,  ..., 1.0945, 1.1135, 1.1330],\n",
      "           ...,\n",
      "           [1.1019, 1.0807, 1.0599,  ..., 1.0397, 1.0599, 1.0807],\n",
      "           [1.1199, 1.0990, 1.0786,  ..., 1.0588, 1.0786, 1.0990],\n",
      "           [1.1385, 1.1180, 1.0979,  ..., 1.0784, 1.0979, 1.1180]],\n",
      "\n",
      "          [[1.2071, 1.1879, 1.1692,  ..., 1.1511, 1.1692, 1.1879],\n",
      "           [1.1856, 1.1660, 1.1470,  ..., 1.1286, 1.1470, 1.1660],\n",
      "           [1.1645, 1.1446, 1.1253,  ..., 1.1064, 1.1253, 1.1446],\n",
      "           ...,\n",
      "           [1.1164, 1.0955, 1.0750,  ..., 1.0551, 1.0750, 1.0955],\n",
      "           [1.1342, 1.1136, 1.0935,  ..., 1.0739, 1.0935, 1.1136],\n",
      "           [1.1526, 1.1323, 1.1125,  ..., 1.0933, 1.1125, 1.1323]],\n",
      "\n",
      "          [[1.2187, 1.1997, 1.1813,  ..., 1.1634, 1.1813, 1.1997],\n",
      "           [1.1974, 1.1781, 1.1593,  ..., 1.1411, 1.1593, 1.1781],\n",
      "           [1.1766, 1.1569, 1.1378,  ..., 1.1192, 1.1378, 1.1569],\n",
      "           ...,\n",
      "           [1.1316, 1.1110, 1.0908,  ..., 1.0712, 1.0908, 1.1110],\n",
      "           [1.1492, 1.1288, 1.1090,  ..., 1.0897, 1.1090, 1.1288],\n",
      "           [1.1673, 1.1473, 1.1278,  ..., 1.1088, 1.1278, 1.1473]]]]])\n"
     ]
    },
    {
     "ename": "IndexError",
     "evalue": "index 3 is out of bounds for dimension 1 with size 1",
     "output_type": "error",
     "traceback": [
      "\u001b[0;31m---------------------------------------------------------------------------\u001b[0m",
      "\u001b[0;31mIndexError\u001b[0m                                Traceback (most recent call last)",
      "\u001b[0;32m/tmp/ipykernel_881629/2839054375.py\u001b[0m in \u001b[0;36m<module>\u001b[0;34m\u001b[0m\n\u001b[1;32m      1\u001b[0m \u001b[0msdf_data\u001b[0m \u001b[0;34m=\u001b[0m \u001b[0mtorch\u001b[0m\u001b[0;34m.\u001b[0m\u001b[0mload\u001b[0m\u001b[0;34m(\u001b[0m\u001b[0;34mr'/home/student/Documents/Data/Pre-processed_data/windows-preprocessed/synthetisch_0_v2/buis_recht/recht_bocht_15/sdf.pt'\u001b[0m\u001b[0;34m)\u001b[0m  \u001b[0;31m# Should return [N, 4]\u001b[0m\u001b[0;34m\u001b[0m\u001b[0;34m\u001b[0m\u001b[0m\n\u001b[1;32m      2\u001b[0m \u001b[0mprint\u001b[0m\u001b[0;34m(\u001b[0m\u001b[0msdf_data\u001b[0m\u001b[0;34m)\u001b[0m\u001b[0;34m\u001b[0m\u001b[0;34m\u001b[0m\u001b[0m\n\u001b[0;32m----> 3\u001b[0;31m \u001b[0mcoords\u001b[0m\u001b[0;34m,\u001b[0m \u001b[0msdf\u001b[0m \u001b[0;34m=\u001b[0m \u001b[0msdf_data\u001b[0m\u001b[0;34m[\u001b[0m\u001b[0;34m:\u001b[0m\u001b[0;34m,\u001b[0m \u001b[0;34m:\u001b[0m\u001b[0;36m3\u001b[0m\u001b[0;34m]\u001b[0m\u001b[0;34m,\u001b[0m \u001b[0msdf_data\u001b[0m\u001b[0;34m[\u001b[0m\u001b[0;34m:\u001b[0m\u001b[0;34m,\u001b[0m \u001b[0;36m3\u001b[0m\u001b[0;34m]\u001b[0m\u001b[0;34m\u001b[0m\u001b[0;34m\u001b[0m\u001b[0m\n\u001b[0m",
      "\u001b[0;31mIndexError\u001b[0m: index 3 is out of bounds for dimension 1 with size 1"
     ]
    }
   ],
   "source": [
    "sdf_data = torch.load(r'/home/student/Documents/Data/Pre-processed_data/windows-preprocessed/synthetisch_0_v2/buis_recht/recht_bocht_15/sdf.pt')  # Should return [N, 4]\n",
    "print(sdf_data)\n",
    "coords, sdf = sdf_data[:, :3], sdf_data[:, 3]"
   ]
  },
  {
   "cell_type": "code",
   "execution_count": null,
   "id": "4c56fec0",
   "metadata": {},
   "outputs": [
    {
     "name": "stdout",
     "output_type": "stream",
     "text": [
      "✅ Generated /home/student/Documents/AutoSDF/data/ShapeNet/filelists/buizen_train.lst, /home/student/Documents/AutoSDF/data/ShapeNet/filelists/buizen_val.lst, and /home/student/Documents/AutoSDF/data/ShapeNet/filelists/buizen_test.lst\n",
      "Train: 47, Val: 5, Test: 7\n"
     ]
    }
   ],
   "source": [
    "import os\n",
    "import random\n",
    "from pathlib import Path\n",
    "\n",
    "# Parameters\n",
    "dataset_root = r\"/home/student/Documents/Data/Pre-processed_data/windows-preprocessed/synthetisch_0_v2\"  # <-- Change this\n",
    "train_ratio = 0.8\n",
    "val_ratio = 0.1\n",
    "test_ratio = 0.1\n",
    "random_seed = 42  # For reproducibility\n",
    "\n",
    "# Output list file names\n",
    "output_root = r\"/home/student/Documents/AutoSDF/data/ShapeNet/filelists\"\n",
    "train_file = os.path.join(output_root, \"synthetisch_0_v2_train.lst\")\n",
    "val_file = os.path.join(output_root, \"synthetisch_0_v2_val.lst\")\n",
    "test_file = os.path.join(output_root, \"synthetisch_0_v2_test.lst\")\n",
    "\n",
    "random.seed(random_seed)\n",
    "\n",
    "# Collect all model paths\n",
    "all_models = []\n",
    "for category in os.listdir(dataset_root):\n",
    "    category_path = os.path.join(dataset_root, category)\n",
    "    if not os.path.isdir(category_path):\n",
    "        continue\n",
    "    for model_id in os.listdir(category_path):\n",
    "        model_path = f\"{category}/{model_id}\"\n",
    "        all_models.append(model_path)\n",
    "\n",
    "# Shuffle and split\n",
    "random.shuffle(all_models)\n",
    "n_total = len(all_models)\n",
    "n_train = int(train_ratio * n_total)\n",
    "n_val = int(val_ratio * n_total)\n",
    "\n",
    "train_models = all_models[:n_train]\n",
    "val_models = all_models[n_train:n_train + n_val]\n",
    "test_models = all_models[n_train + n_val:]\n",
    "\n",
    "# Write to files\n",
    "def write_list(filename, model_list):\n",
    "    with open(filename, \"w\") as f:\n",
    "        for path in model_list:\n",
    "            f.write(path + \"\\n\")\n",
    "\n",
    "write_list(train_file, train_models)\n",
    "write_list(val_file, val_models)\n",
    "write_list(test_file, test_models)\n",
    "\n",
    "print(f\"✅ Generated {train_file}, {val_file}, and {test_file}\")\n",
    "print(f\"Train: {len(train_models)}, Val: {len(val_models)}, Test: {len(test_models)}\")"
   ]
  },
  {
   "cell_type": "code",
   "execution_count": 12,
   "id": "c79e1391",
   "metadata": {},
   "outputs": [
    {
     "data": {
      "text/plain": [
       "True"
      ]
     },
     "execution_count": 12,
     "metadata": {},
     "output_type": "execute_result"
    }
   ],
   "source": [
    "#os.path.exists(r\"../Data/Pre-processed_data/windows-preprocessed/synthetisch_0_v2/buis_rond/rond_verzamel/sdf.pt\")\n",
    "os.path.exists(r\"./data/../../Data\")"
   ]
  }
 ],
 "metadata": {
  "kernelspec": {
   "display_name": "autosdf",
   "language": "python",
   "name": "python3"
  },
  "language_info": {
   "codemirror_mode": {
    "name": "ipython",
    "version": 3
   },
   "file_extension": ".py",
   "mimetype": "text/x-python",
   "name": "python",
   "nbconvert_exporter": "python",
   "pygments_lexer": "ipython3",
   "version": "3.8.11"
  }
 },
 "nbformat": 4,
 "nbformat_minor": 5
}
