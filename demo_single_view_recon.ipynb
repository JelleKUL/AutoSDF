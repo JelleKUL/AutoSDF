{
 "cells": [
  {
   "cell_type": "code",
   "execution_count": 1,
   "metadata": {},
   "outputs": [],
   "source": [
    "import os\n",
    "%matplotlib inline\n",
    "import matplotlib\n",
    "import matplotlib.pyplot as plt\n",
    "import torch.backends.cudnn as cudnn\n",
    "import torchvision.utils as vutils\n",
    "cudnn.benchmark = True\n",
    "\n",
    "# some utility function for visualization\n",
    "import utils\n",
    "from utils.util_3d import init_mesh_renderer, sdf_to_mesh\n",
    "\n",
    "# some utility function\n",
    "from utils.qual_util import save_mesh_as_gif\n",
    "from IPython.display import Image as ipy_image\n",
    "from IPython.display import display\n",
    "\n",
    "%reload_ext autoreload\n",
    "%autoreload 2"
   ]
  },
  {
   "cell_type": "code",
   "execution_count": 2,
   "metadata": {},
   "outputs": [
    {
     "name": "stdout",
     "output_type": "stream",
     "text": [
      "[*] Enc has Attn at i_level, i_block: 3, 0\n",
      "Working with z of shape (1, 256, 8, 8, 8) = 131072 dimensions.\n",
      "[*] Dec has Attn at i_level, i_block: 3, 0\n",
      "\u001b[34m[*] VQVAE: weight successfully load from: saved_ckpt/pvqvae-snet-all-LR1e-4-T0.2-rerun-epoch140.pth\u001b[0m\n",
      "\u001b[34m[*] Model has been created: Rand-Transformer-Model\u001b[0m\n",
      "[*] \"rand_tf\" initialized.\n",
      "\u001b[34m[*] weight successfully load from: saved_ckpt/rand_tf-snet_code-all-LR1e-4-clean-epoch200.pth\u001b[0m\n",
      "\u001b[36m[*] loading state_dict with strict=False!\u001b[0m\n",
      "\u001b[36m[*] resnet18 successfully loaded from https://download.pytorch.org/models/resnet18-f37072fd.pth.\u001b[0m\n"
     ]
    },
    {
     "ename": "AttributeError",
     "evalue": "'Opt' object has no attribute 'vq_note'",
     "output_type": "error",
     "traceback": [
      "\u001b[0;31m---------------------------------------------------------------------------\u001b[0m",
      "\u001b[0;31mAttributeError\u001b[0m                            Traceback (most recent call last)",
      "\u001b[0;32m/tmp/ipykernel_135314/1318909293.py\u001b[0m in \u001b[0;36m<module>\u001b[0;34m\u001b[0m\n\u001b[1;32m     12\u001b[0m \u001b[0;34m\u001b[0m\u001b[0m\n\u001b[1;32m     13\u001b[0m \u001b[0;31m# img marginal model\u001b[0m\u001b[0;34m\u001b[0m\u001b[0;34m\u001b[0m\u001b[0;34m\u001b[0m\u001b[0m\n\u001b[0;32m---> 14\u001b[0;31m \u001b[0mresnet2vq\u001b[0m \u001b[0;34m=\u001b[0m \u001b[0mload_resnet2vq_model\u001b[0m\u001b[0;34m(\u001b[0m\u001b[0mopt\u001b[0m\u001b[0;34m)\u001b[0m\u001b[0;34m\u001b[0m\u001b[0;34m\u001b[0m\u001b[0m\n\u001b[0m\u001b[1;32m     15\u001b[0m \u001b[0;34m\u001b[0m\u001b[0m\n\u001b[1;32m     16\u001b[0m \u001b[0;34m\"\"\" setup renderer \"\"\"\u001b[0m\u001b[0;34m\u001b[0m\u001b[0;34m\u001b[0m\u001b[0m\n",
      "\u001b[0;32m~/projects/AutoSDF/utils/qual_util.py\u001b[0m in \u001b[0;36mload_resnet2vq_model\u001b[0;34m(opt, resnet2vq_ckpt)\u001b[0m\n\u001b[1;32m    257\u001b[0m     \u001b[0;32mfrom\u001b[0m \u001b[0mmodels\u001b[0m\u001b[0;34m.\u001b[0m\u001b[0mnetworks\u001b[0m\u001b[0;34m.\u001b[0m\u001b[0mresnet2vq_net\u001b[0m \u001b[0;32mimport\u001b[0m \u001b[0mResNet2VQ\u001b[0m\u001b[0;34m\u001b[0m\u001b[0;34m\u001b[0m\u001b[0m\n\u001b[1;32m    258\u001b[0m \u001b[0;34m\u001b[0m\u001b[0m\n\u001b[0;32m--> 259\u001b[0;31m     \u001b[0mnet\u001b[0m \u001b[0;34m=\u001b[0m \u001b[0mResNet2VQ\u001b[0m\u001b[0;34m(\u001b[0m\u001b[0mopt\u001b[0m\u001b[0;34m)\u001b[0m\u001b[0;34m\u001b[0m\u001b[0;34m\u001b[0m\u001b[0m\n\u001b[0m\u001b[1;32m    260\u001b[0m     \u001b[0;31m# resnet2vq_ckpt = resnet2vq_ckpt\u001b[0m\u001b[0;34m\u001b[0m\u001b[0;34m\u001b[0m\u001b[0;34m\u001b[0m\u001b[0m\n\u001b[1;32m    261\u001b[0m     \u001b[0mstate_dict\u001b[0m \u001b[0;34m=\u001b[0m \u001b[0mtorch\u001b[0m\u001b[0;34m.\u001b[0m\u001b[0mload\u001b[0m\u001b[0;34m(\u001b[0m\u001b[0mresnet2vq_ckpt\u001b[0m\u001b[0;34m)\u001b[0m\u001b[0;34m\u001b[0m\u001b[0;34m\u001b[0m\u001b[0m\n",
      "\u001b[0;32m~/projects/AutoSDF/models/networks/resnet2vq_net.py\u001b[0m in \u001b[0;36m__init__\u001b[0;34m(self, opt)\u001b[0m\n\u001b[1;32m     19\u001b[0m         \u001b[0mntoken\u001b[0m \u001b[0;34m=\u001b[0m \u001b[0;36m512\u001b[0m\u001b[0;34m\u001b[0m\u001b[0;34m\u001b[0m\u001b[0m\n\u001b[1;32m     20\u001b[0m \u001b[0;34m\u001b[0m\u001b[0m\n\u001b[0;32m---> 21\u001b[0;31m         \u001b[0;32mif\u001b[0m \u001b[0mopt\u001b[0m\u001b[0;34m.\u001b[0m\u001b[0mvq_note\u001b[0m \u001b[0;34m==\u001b[0m \u001b[0;34m'default'\u001b[0m\u001b[0;34m:\u001b[0m\u001b[0;34m\u001b[0m\u001b[0;34m\u001b[0m\u001b[0m\n\u001b[0m\u001b[1;32m     22\u001b[0m             \u001b[0mntoken\u001b[0m \u001b[0;34m=\u001b[0m \u001b[0;36m512\u001b[0m \u001b[0;31m# 8 ** 3\u001b[0m\u001b[0;34m\u001b[0m\u001b[0;34m\u001b[0m\u001b[0m\n\u001b[1;32m     23\u001b[0m             \u001b[0mself\u001b[0m\u001b[0;34m.\u001b[0m\u001b[0mdz\u001b[0m \u001b[0;34m=\u001b[0m \u001b[0mself\u001b[0m\u001b[0;34m.\u001b[0m\u001b[0mhz\u001b[0m \u001b[0;34m=\u001b[0m \u001b[0mself\u001b[0m\u001b[0;34m.\u001b[0m\u001b[0mwz\u001b[0m \u001b[0;34m=\u001b[0m \u001b[0;36m8\u001b[0m\u001b[0;34m\u001b[0m\u001b[0;34m\u001b[0m\u001b[0m\n",
      "\u001b[0;31mAttributeError\u001b[0m: 'Opt' object has no attribute 'vq_note'"
     ]
    }
   ],
   "source": [
    "from utils.demo_util import get_shape_comp_opt, get_shape_comp_model\n",
    "from utils.qual_util import load_resnet2vq_model\n",
    "\n",
    "\"\"\" setup opt\"\"\"\n",
    "gpu_id = 0\n",
    "\n",
    "opt = get_shape_comp_opt(gpu_id=gpu_id)\n",
    "\n",
    "\"\"\" setup models \"\"\"\n",
    "model = get_shape_comp_model(opt)    \n",
    "model.eval()\n",
    "\n",
    "# img marginal model\n",
    "resnet2vq = load_resnet2vq_model(opt)\n",
    "\n",
    "\"\"\" setup renderer \"\"\"\n",
    "dist, elev, azim = 1.7, 20, 20\n",
    "mesh_renderer = init_mesh_renderer(image_size=256, dist=dist, elev=elev, azim=azim, device=opt.device)"
   ]
  },
  {
   "cell_type": "code",
   "execution_count": null,
   "metadata": {},
   "outputs": [],
   "source": [
    "\"\"\" setup pix3d img dataset and image marginal model \"\"\"\n",
    "from utils.qual_util import load_resnet2vq_model, preprocess_img\n",
    "\n",
    "# load and preprocess image\n",
    "img_path = 'demo_data/chair_2598.jpg'\n",
    "img_mask_path = 'demo_data/chair_2598_mask.png'\n",
    "\n",
    "img_input = preprocess_img(img_path, img_mask_path)\n",
    "\n",
    "img_name = 'demo_data/tmp.png'\n",
    "vutils.save_image(img_input/2+.5, img_name)\n",
    "display(ipy_image(img_name))"
   ]
  },
  {
   "cell_type": "code",
   "execution_count": null,
   "metadata": {},
   "outputs": [],
   "source": [
    "\"\"\" single-view reconstruction \"\"\" \n",
    "nimgs = 3\n",
    "topk = 10\n",
    "alpha = 0.7\n",
    "\n",
    "single_view_recon = model.single_view_recon(img_input, resnet2vq, bs=nimgs, topk=topk, alpha=alpha)\n",
    "\n",
    "gen_mesh = sdf_to_mesh(single_view_recon)\n",
    "\n",
    "# save as gif\n",
    "res_dir = 'results'\n",
    "gen_gif_name = f'{res_dir}/single-view-gen.gif'\n",
    "save_mesh_as_gif(mesh_renderer, gen_mesh, nrow=3, out_name=gen_gif_name)\n",
    "\n",
    "for name in [img_name, gen_gif_name]:\n",
    "    display(ipy_image(name))"
   ]
  },
  {
   "cell_type": "code",
   "execution_count": null,
   "metadata": {},
   "outputs": [],
   "source": []
  }
 ],
 "metadata": {
  "interpreter": {
   "hash": "1f1b280d0bad175b79e1457252213b00f343fb3cb82239855346bed4f09bff33"
  },
  "kernelspec": {
   "display_name": "Python 3.8.11 64-bit ('pt1.9': conda)",
   "name": "python3"
  },
  "language_info": {
   "codemirror_mode": {
    "name": "ipython",
    "version": 3
   },
   "file_extension": ".py",
   "mimetype": "text/x-python",
   "name": "python",
   "nbconvert_exporter": "python",
   "pygments_lexer": "ipython3",
   "version": "3.8.11"
  }
 },
 "nbformat": 4,
 "nbformat_minor": 4
}
